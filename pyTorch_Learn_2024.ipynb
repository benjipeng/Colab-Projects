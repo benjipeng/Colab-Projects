{
  "nbformat": 4,
  "nbformat_minor": 0,
  "metadata": {
    "colab": {
      "provenance": [],
      "collapsed_sections": [
        "PXSwyPSBc_5J"
      ],
      "toc_visible": true,
      "authorship_tag": "ABX9TyPIlecIjyTM4qV3357mzDn4",
      "include_colab_link": true
    },
    "kernelspec": {
      "name": "python3",
      "display_name": "Python 3"
    },
    "language_info": {
      "name": "python"
    }
  },
  "cells": [
    {
      "cell_type": "markdown",
      "metadata": {
        "id": "view-in-github",
        "colab_type": "text"
      },
      "source": [
        "<a href=\"https://colab.research.google.com/github/benjipeng/Colab-Projects/blob/main/pyTorch_Learn_2024.ipynb\" target=\"_parent\"><img src=\"https://colab.research.google.com/assets/colab-badge.svg\" alt=\"Open In Colab\"/></a>"
      ]
    },
    {
      "cell_type": "markdown",
      "source": [
        "# `PyTorch` All-In-One"
      ],
      "metadata": {
        "id": "2-nMHql1cmEi"
      }
    },
    {
      "cell_type": "markdown",
      "source": [
        "## Basic APIs"
      ],
      "metadata": {
        "id": "_zQLVR81c8I3"
      }
    },
    {
      "cell_type": "markdown",
      "source": [
        "### Start\n",
        "> A most basic example, highligting the overall syntax\n",
        "\n",
        "Note: Every `TorchVision` Dataset includes two arguments: `transform` and `target_transform` to modify the ***samples*** and ***labels*** respectively."
      ],
      "metadata": {
        "id": "PXSwyPSBc_5J"
      }
    },
    {
      "cell_type": "code",
      "source": [
        "import torch\n",
        "from torch import nn\n",
        "from torch.utils.data import DataLoader\n",
        "from torchvision import datasets\n",
        "from torchvision.transforms import ToTensor"
      ],
      "metadata": {
        "id": "QrS3L2MidExh"
      },
      "execution_count": 1,
      "outputs": []
    },
    {
      "cell_type": "code",
      "source": [
        "training_data = datasets.FashionMNIST(\n",
        "    root=\"FashionMNIST\", # Saved folder name\n",
        "    train=True,\n",
        "    download=True,\n",
        "    transform=ToTensor(),\n",
        ")\n",
        "test_data = datasets.FashionMNIST(\n",
        "    root=\"FashionMNIST\",\n",
        "    train=False,\n",
        "    download=True,\n",
        "    transform=ToTensor(),\n",
        ")"
      ],
      "metadata": {
        "id": "YGTaPiGUeBfu"
      },
      "execution_count": 3,
      "outputs": []
    },
    {
      "cell_type": "markdown",
      "source": [
        "**What's next after downloading the `Dataset`**\n",
        "\n",
        "`dataset` is an argument to the `DataLoader`, therefore, define a `batch_size`"
      ],
      "metadata": {
        "id": "C1ubCvObfRz7"
      }
    },
    {
      "cell_type": "code",
      "source": [
        "batch_size = 64\n",
        "train_dataloader = DataLoader(training_data, batch_size)\n",
        "test_dataloader = DataLoader(test_data, batch_size)\n",
        "for X, y in test_dataloader: # Inspection\n",
        "    print(f\"Shape of X [N, C, H, W]: {X.shape}\")\n",
        "    print(f\"Shape of y: {y.shape} {y.dtype}\")\n",
        "    break"
      ],
      "metadata": {
        "colab": {
          "base_uri": "https://localhost:8080/"
        },
        "id": "PcZGBclnfUKs",
        "outputId": "1150eb93-1fd3-494e-9070-25c43a07545b"
      },
      "execution_count": 12,
      "outputs": [
        {
          "output_type": "stream",
          "name": "stdout",
          "text": [
            "Shape of X [N, C, H, W]: torch.Size([64, 1, 28, 28])\n",
            "Shape of y: torch.Size([64]) torch.int64\n"
          ]
        }
      ]
    },
    {
      "cell_type": "code",
      "source": [
        "train_dataloader.dataset"
      ],
      "metadata": {
        "colab": {
          "base_uri": "https://localhost:8080/"
        },
        "id": "Jl747S6Ljku_",
        "outputId": "4c8d539a-71c0-47b6-a90a-8a0fbbc3cb0e"
      },
      "execution_count": 25,
      "outputs": [
        {
          "output_type": "execute_result",
          "data": {
            "text/plain": [
              "Dataset FashionMNIST\n",
              "    Number of datapoints: 60000\n",
              "    Root location: FashionMNIST\n",
              "    Split: Train\n",
              "    StandardTransform\n",
              "Transform: ToTensor()"
            ]
          },
          "metadata": {},
          "execution_count": 25
        }
      ]
    },
    {
      "cell_type": "markdown",
      "source": [
        "**Create `Models`**"
      ],
      "metadata": {
        "id": "bDL0AZsxggjk"
      }
    },
    {
      "cell_type": "code",
      "source": [
        "device = (\n",
        "    \"cuda\"\n",
        "    if torch.cuda.is_available()\n",
        "    else \"mps\"\n",
        "    if torch.backends.mps.is_available()\n",
        "    else \"cpu\"\n",
        ")\n",
        "print(f\"{device} is available, using {device} device\")"
      ],
      "metadata": {
        "colab": {
          "base_uri": "https://localhost:8080/"
        },
        "id": "n4x2ScAnfUAN",
        "outputId": "5c545b66-391b-4ed3-e7db-ac3b9a3649af"
      },
      "execution_count": 17,
      "outputs": [
        {
          "output_type": "stream",
          "name": "stdout",
          "text": [
            "cpu is avaliable, using cpu device\n"
          ]
        }
      ]
    },
    {
      "cell_type": "code",
      "source": [
        "class NeuralNetwork(nn.Module):\n",
        "    def __init__(self):\n",
        "        super().__init__()\n",
        "        self.flatten = nn.Flatten()\n",
        "        self.linear_relu_stack = nn.Sequential(\n",
        "            nn.Linear(28*28, 512),\n",
        "            nn.ReLU(),\n",
        "            nn.Linear(512, 512),\n",
        "            nn.ReLU(),\n",
        "            nn.Linear(512, 10)\n",
        "        )\n",
        "    def forward(self, x):\n",
        "        x = self.flatten(x)\n",
        "        logits = self.linear_relu_stack(x)\n",
        "        return logits\n",
        "model = NeuralNetwork().to(device) # remember this"
      ],
      "metadata": {
        "id": "kOtBzCh8fSYQ"
      },
      "execution_count": 18,
      "outputs": []
    },
    {
      "cell_type": "code",
      "source": [
        "print(model)"
      ],
      "metadata": {
        "colab": {
          "base_uri": "https://localhost:8080/"
        },
        "id": "m5H08A34iFDn",
        "outputId": "ae703083-4a3a-4940-d45e-1a754983956b"
      },
      "execution_count": 19,
      "outputs": [
        {
          "output_type": "stream",
          "name": "stdout",
          "text": [
            "NeuralNetwork(\n",
            "  (flatten): Flatten(start_dim=1, end_dim=-1)\n",
            "  (linear_relu_stack): Sequential(\n",
            "    (0): Linear(in_features=784, out_features=512, bias=True)\n",
            "    (1): ReLU()\n",
            "    (2): Linear(in_features=512, out_features=512, bias=True)\n",
            "    (3): ReLU()\n",
            "    (4): Linear(in_features=512, out_features=10, bias=True)\n",
            "  )\n",
            ")\n"
          ]
        }
      ]
    },
    {
      "cell_type": "markdown",
      "source": [
        "1. **`loss function` and `optimizer`**\n",
        "2. Create a `training loop`"
      ],
      "metadata": {
        "id": "tt_ufTdDiRea"
      }
    },
    {
      "cell_type": "code",
      "source": [
        "loss_function = nn.CrossEntropyLoss()\n",
        "optimizer = torch.optim.SGD(model.parameters(), lr=1e-3)\n",
        "def train(dataloader, model, loss_function, optimizer):\n",
        "    size = len(dataloader.dataset)\n",
        "    model.train #Set the module in training mode\n",
        "    for batch, (X, y) in enumerate(dataloader):\n",
        "        X, y = X.to(device), y.to(device)\n",
        "        pred = model(X)\n",
        "        loss = loss_function(pred, y)\n",
        "        # Back Prop\n",
        "        loss.backward()\n",
        "        optimizer.step()\n",
        "        optimizer.zero_grad() #Resets the gradients of all optimized torch.Tensor s\n",
        "\n",
        "        if batch % 100 == 0:\n",
        "            loss, current = loss.item(), (batch + 1) * len(X)\n",
        "            print(f\"loss: {loss:>7f}  [{current:>5d}/{size:>5d}]\")\n",
        "\n",
        "def test(dataloader, model, loss_fn):\n",
        "    size = len(dataloader.dataset)\n",
        "    num_batches = len(dataloader)\n",
        "    model.eval()\n",
        "    test_loss, correct = 0, 0\n",
        "    with torch.no_grad(): #torch.no_grad() ensures that no gradients are computed during test mode\n",
        "        for X, y in dataloader:\n",
        "            X, y = X.to(device), y.to(device)\n",
        "            pred = model(X)\n",
        "            test_loss += loss_fn(pred, y).item()\n",
        "            correct += (pred.argmax(1) == y).type(torch.float).sum().item()\n",
        "    test_loss /= num_batches\n",
        "    correct /= size\n",
        "    print(f\"Test Error: \\n Accuracy: {(100*correct):>0.1f}%, Avg loss: {test_loss:>8f} \\n\")\n"
      ],
      "metadata": {
        "id": "3VtocrIpicWt"
      },
      "execution_count": 36,
      "outputs": []
    },
    {
      "cell_type": "markdown",
      "source": [
        "The training process"
      ],
      "metadata": {
        "id": "h9fKTEupmFQ_"
      }
    },
    {
      "cell_type": "code",
      "source": [
        "epochs = 5\n",
        "for t in range(epochs):\n",
        "    print(f\"Epoch {t+1}\\n-------------------------------\")\n",
        "    train(train_dataloader, model, loss_function, optimizer)\n",
        "    test(test_dataloader, model, loss_function)\n",
        "print(\"Done!\")"
      ],
      "metadata": {
        "colab": {
          "base_uri": "https://localhost:8080/"
        },
        "id": "roOWFeWRlQ1I",
        "outputId": "cdb8d892-7162-4efd-e828-d0fbef3b3643"
      },
      "execution_count": 32,
      "outputs": [
        {
          "output_type": "stream",
          "name": "stdout",
          "text": [
            "Epoch 1\n",
            "-------------------------------\n",
            "loss: 2.309656  [   64/60000]\n",
            "loss: 2.300575  [ 6464/60000]\n",
            "loss: 2.281383  [12864/60000]\n",
            "loss: 2.283329  [19264/60000]\n",
            "loss: 2.248446  [25664/60000]\n",
            "loss: 2.235044  [32064/60000]\n",
            "loss: 2.242405  [38464/60000]\n",
            "loss: 2.212619  [44864/60000]\n",
            "loss: 2.216372  [51264/60000]\n",
            "loss: 2.185622  [57664/60000]\n",
            "Test Error: \n",
            " Accuracy: 36.5%, Avg loss: 2.180316 \n",
            "\n",
            "Epoch 2\n",
            "-------------------------------\n",
            "loss: 2.193666  [   64/60000]\n",
            "loss: 2.187094  [ 6464/60000]\n",
            "loss: 2.136517  [12864/60000]\n",
            "loss: 2.151797  [19264/60000]\n",
            "loss: 2.092989  [25664/60000]\n",
            "loss: 2.050664  [32064/60000]\n",
            "loss: 2.074626  [38464/60000]\n",
            "loss: 2.009214  [44864/60000]\n",
            "loss: 2.014082  [51264/60000]\n",
            "loss: 1.940784  [57664/60000]\n",
            "Test Error: \n",
            " Accuracy: 52.9%, Avg loss: 1.942819 \n",
            "\n",
            "Epoch 3\n",
            "-------------------------------\n",
            "loss: 1.980675  [   64/60000]\n",
            "loss: 1.951112  [ 6464/60000]\n",
            "loss: 1.845504  [12864/60000]\n",
            "loss: 1.877147  [19264/60000]\n",
            "loss: 1.755396  [25664/60000]\n",
            "loss: 1.719320  [32064/60000]\n",
            "loss: 1.732892  [38464/60000]\n",
            "loss: 1.641083  [44864/60000]\n",
            "loss: 1.660906  [51264/60000]\n",
            "loss: 1.548261  [57664/60000]\n",
            "Test Error: \n",
            " Accuracy: 58.0%, Avg loss: 1.570056 \n",
            "\n",
            "Epoch 4\n",
            "-------------------------------\n",
            "loss: 1.642470  [   64/60000]\n",
            "loss: 1.601018  [ 6464/60000]\n",
            "loss: 1.457487  [12864/60000]\n",
            "loss: 1.519181  [19264/60000]\n",
            "loss: 1.383718  [25664/60000]\n",
            "loss: 1.393082  [32064/60000]\n",
            "loss: 1.394010  [38464/60000]\n",
            "loss: 1.323955  [44864/60000]\n",
            "loss: 1.357306  [51264/60000]\n",
            "loss: 1.251498  [57664/60000]\n",
            "Test Error: \n",
            " Accuracy: 61.9%, Avg loss: 1.282594 \n",
            "\n",
            "Epoch 5\n",
            "-------------------------------\n",
            "loss: 1.368421  [   64/60000]\n",
            "loss: 1.345175  [ 6464/60000]\n",
            "loss: 1.182059  [12864/60000]\n",
            "loss: 1.280702  [19264/60000]\n",
            "loss: 1.145165  [25664/60000]\n",
            "loss: 1.183386  [32064/60000]\n",
            "loss: 1.188885  [38464/60000]\n",
            "loss: 1.130690  [44864/60000]\n",
            "loss: 1.171092  [51264/60000]\n",
            "loss: 1.085380  [57664/60000]\n",
            "Test Error: \n",
            " Accuracy: 63.9%, Avg loss: 1.109249 \n",
            "\n",
            "Done!\n"
          ]
        }
      ]
    },
    {
      "cell_type": "markdown",
      "source": [
        "`Save` and `Load` Models"
      ],
      "metadata": {
        "id": "u677dLeimI4l"
      }
    },
    {
      "cell_type": "code",
      "source": [
        "torch.save(model.state_dict(), \"model.pth\")"
      ],
      "metadata": {
        "id": "vtxryF-hjVog"
      },
      "execution_count": 33,
      "outputs": []
    },
    {
      "cell_type": "code",
      "source": [
        "model = NeuralNetwork().to(device) #Remember that\n",
        "model.load_state_dict(torch.load(\"model.pth\"))"
      ],
      "metadata": {
        "colab": {
          "base_uri": "https://localhost:8080/"
        },
        "id": "uOW9hFNSmjPf",
        "outputId": "9c7fe302-011a-471b-db68-44a5e3c335a0"
      },
      "execution_count": 34,
      "outputs": [
        {
          "output_type": "execute_result",
          "data": {
            "text/plain": [
              "<All keys matched successfully>"
            ]
          },
          "metadata": {},
          "execution_count": 34
        }
      ]
    },
    {
      "cell_type": "code",
      "source": [
        "classes = [\n",
        "    \"T-shirt/top\",\n",
        "    \"Trouser\",\n",
        "    \"Pullover\",\n",
        "    \"Dress\",\n",
        "    \"Coat\",\n",
        "    \"Sandal\",\n",
        "    \"Shirt\",\n",
        "    \"Sneaker\",\n",
        "    \"Bag\",\n",
        "    \"Ankle boot\",\n",
        "]\n",
        "\n",
        "model.eval()\n",
        "x, y = test_data[0][0], test_data[0][1]\n",
        "with torch.no_grad():\n",
        "    x = x.to(device)\n",
        "    pred = model(x)\n",
        "    predicted, actual = classes[pred[0].argmax(0)], classes[y]\n",
        "    print(f'Predicted: \"{predicted}\", Actual: \"{actual}\"')"
      ],
      "metadata": {
        "colab": {
          "base_uri": "https://localhost:8080/"
        },
        "id": "fo_YeLVHmoGA",
        "outputId": "12a54809-d00d-47d5-d38c-1f7963c66a31"
      },
      "execution_count": 35,
      "outputs": [
        {
          "output_type": "stream",
          "name": "stdout",
          "text": [
            "Predicted: \"Ankle boot\", Actual: \"Ankle boot\"\n"
          ]
        }
      ]
    },
    {
      "cell_type": "markdown",
      "source": [
        "### `torch.autograd`"
      ],
      "metadata": {
        "id": "cDLASZuLksYc"
      }
    },
    {
      "cell_type": "code",
      "source": [
        "import torch\n",
        "\n",
        "x = torch.ones(5)  # input tensor\n",
        "y = torch.zeros(3)  # expected output\n",
        "w = torch.randn(5, 3, requires_grad=True)\n",
        "b = torch.randn(3, requires_grad=True)\n",
        "z = torch.matmul(x, w)+b\n",
        "loss = torch.nn.functional.binary_cross_entropy_with_logits(z, y)"
      ],
      "metadata": {
        "id": "ljdE1L03nZtv"
      },
      "execution_count": 37,
      "outputs": []
    },
    {
      "cell_type": "code",
      "source": [
        "print(f\"Gradient function for z = {z.grad_fn}\")\n",
        "print(f\"Gradient function for loss = {loss.grad_fn}\")"
      ],
      "metadata": {
        "colab": {
          "base_uri": "https://localhost:8080/"
        },
        "id": "5x-HwVIOoSVH",
        "outputId": "f6ecd7b2-3b1d-47a8-e87f-506c2af4d014"
      },
      "execution_count": 38,
      "outputs": [
        {
          "output_type": "stream",
          "name": "stdout",
          "text": [
            "Gradient function for z = <AddBackward0 object at 0x7d085d284730>\n",
            "Gradient function for loss = <BinaryCrossEntropyWithLogitsBackward0 object at 0x7d085d286fb0>\n"
          ]
        }
      ]
    },
    {
      "cell_type": "code",
      "source": [
        "print(w.grad)\n",
        "print(b.grad)\n",
        "loss.backward()\n",
        "print(w.grad)\n",
        "print(b.grad)"
      ],
      "metadata": {
        "colab": {
          "base_uri": "https://localhost:8080/"
        },
        "id": "NXw5OMHDoXGT",
        "outputId": "94b297a3-33e7-4f68-d3f5-3cbbe279514c"
      },
      "execution_count": 41,
      "outputs": [
        {
          "output_type": "stream",
          "name": "stdout",
          "text": [
            "None\n",
            "None\n",
            "tensor([[0.2959, 0.0406, 0.0350],\n",
            "        [0.2959, 0.0406, 0.0350],\n",
            "        [0.2959, 0.0406, 0.0350],\n",
            "        [0.2959, 0.0406, 0.0350],\n",
            "        [0.2959, 0.0406, 0.0350]])\n",
            "tensor([0.2959, 0.0406, 0.0350])\n"
          ]
        }
      ]
    },
    {
      "cell_type": "code",
      "source": [
        "t = torch.tensor([[[1, 2],\n",
        "                  [3, 4]],\n",
        "                  [[5, 6],\n",
        "                  [7, 8]]])"
      ],
      "metadata": {
        "id": "T57ypQRKoSlm"
      },
      "execution_count": 44,
      "outputs": []
    },
    {
      "cell_type": "code",
      "source": [
        "t.shape"
      ],
      "metadata": {
        "colab": {
          "base_uri": "https://localhost:8080/"
        },
        "id": "bk4RkjV1sybd",
        "outputId": "57e25062-c897-4ab8-fd32-db116d678649"
      },
      "execution_count": 50,
      "outputs": [
        {
          "output_type": "execute_result",
          "data": {
            "text/plain": [
              "torch.Size([2, 2, 2])"
            ]
          },
          "metadata": {},
          "execution_count": 50
        }
      ]
    },
    {
      "cell_type": "code",
      "source": [
        "torch.flatten(t, start_dim=0, end_dim=1).shape"
      ],
      "metadata": {
        "colab": {
          "base_uri": "https://localhost:8080/"
        },
        "id": "FrpGHvBfsjys",
        "outputId": "42db8a76-4c70-459d-bdcb-31958befb59f"
      },
      "execution_count": 51,
      "outputs": [
        {
          "output_type": "execute_result",
          "data": {
            "text/plain": [
              "torch.Size([4, 2])"
            ]
          },
          "metadata": {},
          "execution_count": 51
        }
      ]
    },
    {
      "cell_type": "markdown",
      "source": [],
      "metadata": {
        "id": "JZS7dNm_nZJD"
      }
    },
    {
      "cell_type": "markdown",
      "source": [],
      "metadata": {
        "id": "sdTbrVqLiSSm"
      }
    },
    {
      "cell_type": "markdown",
      "source": [],
      "metadata": {
        "id": "aqWkglz7dAjO"
      }
    }
  ]
}