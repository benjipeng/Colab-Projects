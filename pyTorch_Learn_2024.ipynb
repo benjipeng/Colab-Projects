{
  "nbformat": 4,
  "nbformat_minor": 0,
  "metadata": {
    "colab": {
      "provenance": [],
      "collapsed_sections": [
        "PXSwyPSBc_5J"
      ],
      "toc_visible": true,
      "authorship_tag": "ABX9TyNvmMYazZb4McoO78OjrBy6",
      "include_colab_link": true
    },
    "kernelspec": {
      "name": "python3",
      "display_name": "Python 3"
    },
    "language_info": {
      "name": "python"
    }
  },
  "cells": [
    {
      "cell_type": "markdown",
      "metadata": {
        "id": "view-in-github",
        "colab_type": "text"
      },
      "source": [
        "<a href=\"https://colab.research.google.com/github/benjipeng/Colab-Projects/blob/main/pyTorch_Learn_2024.ipynb\" target=\"_parent\"><img src=\"https://colab.research.google.com/assets/colab-badge.svg\" alt=\"Open In Colab\"/></a>"
      ]
    },
    {
      "cell_type": "markdown",
      "source": [
        "# `PyTorch` All-In-One"
      ],
      "metadata": {
        "id": "2-nMHql1cmEi"
      }
    },
    {
      "cell_type": "markdown",
      "source": [
        "## Basic APIs"
      ],
      "metadata": {
        "id": "_zQLVR81c8I3"
      }
    },
    {
      "cell_type": "markdown",
      "source": [
        "### Start\n",
        "> A most basic example, highligting the overall syntax\n",
        "\n",
        "Note: Every `TorchVision` Dataset includes two arguments: `transform` and `target_transform` to modify the ***samples*** and ***labels*** respectively."
      ],
      "metadata": {
        "id": "PXSwyPSBc_5J"
      }
    },
    {
      "cell_type": "code",
      "source": [
        "import torch\n",
        "from torch import nn\n",
        "from torch.utils.data import DataLoader\n",
        "from torchvision import datasets\n",
        "from torchvision.transforms import ToTensor"
      ],
      "metadata": {
        "id": "QrS3L2MidExh"
      },
      "execution_count": 1,
      "outputs": []
    },
    {
      "cell_type": "code",
      "source": [
        "training_data = datasets.FashionMNIST(\n",
        "    root=\"FashionMNIST\", # Saved folder name\n",
        "    train=True,\n",
        "    download=True,\n",
        "    transform=ToTensor(),\n",
        ")\n",
        "test_data = datasets.FashionMNIST(\n",
        "    root=\"FashionMNIST\",\n",
        "    train=False,\n",
        "    download=True,\n",
        "    transform=ToTensor(),\n",
        ")"
      ],
      "metadata": {
        "id": "YGTaPiGUeBfu"
      },
      "execution_count": 3,
      "outputs": []
    },
    {
      "cell_type": "markdown",
      "source": [
        "**What's next after downloading the `Dataset`**\n",
        "\n",
        "`dataset` is an argument to the `DataLoader`, therefore, define a `batch_size`"
      ],
      "metadata": {
        "id": "C1ubCvObfRz7"
      }
    },
    {
      "cell_type": "code",
      "source": [
        "batch_size = 64\n",
        "train_dataloader = DataLoader(training_data, batch_size)\n",
        "test_dataloader = DataLoader(test_data, batch_size)\n",
        "for X, y in test_dataloader: # Inspection\n",
        "    print(f\"Shape of X [N, C, H, W]: {X.shape}\")\n",
        "    print(f\"Shape of y: {y.shape} {y.dtype}\")\n",
        "    break"
      ],
      "metadata": {
        "colab": {
          "base_uri": "https://localhost:8080/"
        },
        "id": "PcZGBclnfUKs",
        "outputId": "1150eb93-1fd3-494e-9070-25c43a07545b"
      },
      "execution_count": 12,
      "outputs": [
        {
          "output_type": "stream",
          "name": "stdout",
          "text": [
            "Shape of X [N, C, H, W]: torch.Size([64, 1, 28, 28])\n",
            "Shape of y: torch.Size([64]) torch.int64\n"
          ]
        }
      ]
    },
    {
      "cell_type": "code",
      "source": [
        "train_dataloader.dataset"
      ],
      "metadata": {
        "colab": {
          "base_uri": "https://localhost:8080/"
        },
        "id": "Jl747S6Ljku_",
        "outputId": "4c8d539a-71c0-47b6-a90a-8a0fbbc3cb0e"
      },
      "execution_count": 25,
      "outputs": [
        {
          "output_type": "execute_result",
          "data": {
            "text/plain": [
              "Dataset FashionMNIST\n",
              "    Number of datapoints: 60000\n",
              "    Root location: FashionMNIST\n",
              "    Split: Train\n",
              "    StandardTransform\n",
              "Transform: ToTensor()"
            ]
          },
          "metadata": {},
          "execution_count": 25
        }
      ]
    },
    {
      "cell_type": "markdown",
      "source": [
        "**Create `Models`**"
      ],
      "metadata": {
        "id": "bDL0AZsxggjk"
      }
    },
    {
      "cell_type": "code",
      "source": [
        "device = (\n",
        "    \"cuda\"\n",
        "    if torch.cuda.is_available()\n",
        "    else \"mps\"\n",
        "    if torch.backends.mps.is_available()\n",
        "    else \"cpu\"\n",
        ")\n",
        "print(f\"{device} is available, using {device} device\")"
      ],
      "metadata": {
        "colab": {
          "base_uri": "https://localhost:8080/"
        },
        "id": "n4x2ScAnfUAN",
        "outputId": "5c545b66-391b-4ed3-e7db-ac3b9a3649af"
      },
      "execution_count": 17,
      "outputs": [
        {
          "output_type": "stream",
          "name": "stdout",
          "text": [
            "cpu is avaliable, using cpu device\n"
          ]
        }
      ]
    },
    {
      "cell_type": "code",
      "source": [
        "class NeuralNetwork(nn.Module):\n",
        "    def __init__(self):\n",
        "        super().__init__()\n",
        "        self.flatten = nn.Flatten()\n",
        "        self.linear_relu_stack = nn.Sequential(\n",
        "            nn.Linear(28*28, 512),\n",
        "            nn.ReLU(),\n",
        "            nn.Linear(512, 512),\n",
        "            nn.ReLU(),\n",
        "            nn.Linear(512, 10)\n",
        "        )\n",
        "    def forward(self, x):\n",
        "        x = self.flatten(x)\n",
        "        logits = self.linear_relu_stack(x)\n",
        "        return logits\n",
        "model = NeuralNetwork().to(device) # remember this"
      ],
      "metadata": {
        "id": "kOtBzCh8fSYQ"
      },
      "execution_count": 18,
      "outputs": []
    },
    {
      "cell_type": "code",
      "source": [
        "print(model)"
      ],
      "metadata": {
        "colab": {
          "base_uri": "https://localhost:8080/"
        },
        "id": "m5H08A34iFDn",
        "outputId": "ae703083-4a3a-4940-d45e-1a754983956b"
      },
      "execution_count": 19,
      "outputs": [
        {
          "output_type": "stream",
          "name": "stdout",
          "text": [
            "NeuralNetwork(\n",
            "  (flatten): Flatten(start_dim=1, end_dim=-1)\n",
            "  (linear_relu_stack): Sequential(\n",
            "    (0): Linear(in_features=784, out_features=512, bias=True)\n",
            "    (1): ReLU()\n",
            "    (2): Linear(in_features=512, out_features=512, bias=True)\n",
            "    (3): ReLU()\n",
            "    (4): Linear(in_features=512, out_features=10, bias=True)\n",
            "  )\n",
            ")\n"
          ]
        }
      ]
    },
    {
      "cell_type": "markdown",
      "source": [
        "1. **`loss function` and `optimizer`**\n",
        "2. Create a `training loop`"
      ],
      "metadata": {
        "id": "tt_ufTdDiRea"
      }
    },
    {
      "cell_type": "code",
      "source": [
        "loss_function = nn.CrossEntropyLoss()\n",
        "optimizer = torch.optim.SGD(model.parameters(), lr=1e-3)\n",
        "def train(dataloader, model, loss_function, optimizer):\n",
        "    size = len(dataloader.dataset)\n",
        "    model.train #Set the module in training mode\n",
        "    for batch, (X, y) in enumerate(dataloader):\n",
        "        X, y = X.to(device), y.to(device)\n",
        "        pred = model(X)\n",
        "        loss = loss_function(pred, y)\n",
        "        # Back Prop\n",
        "        loss.backward()\n",
        "        optimizer.step()\n",
        "        optimizer.zero_grad() #Resets the gradients of all optimized torch.Tensor s\n",
        "\n",
        "        if batch % 100 == 0:\n",
        "            loss, current = loss.item(), (batch + 1) * len(X)\n",
        "            print(f\"loss: {loss:>7f}  [{current:>5d}/{size:>5d}]\")\n",
        "\n",
        "def test(dataloader, model, loss_fn):\n",
        "    size = len(dataloader.dataset)\n",
        "    num_batches = len(dataloader)\n",
        "    model.eval()\n",
        "    test_loss, correct = 0, 0\n",
        "    with torch.no_grad(): #torch.no_grad() ensures that no gradients are computed during test mode\n",
        "        for X, y in dataloader:\n",
        "            X, y = X.to(device), y.to(device)\n",
        "            pred = model(X)\n",
        "            test_loss += loss_fn(pred, y).item()\n",
        "            correct += (pred.argmax(1) == y).type(torch.float).sum().item()\n",
        "    test_loss /= num_batches\n",
        "    correct /= size\n",
        "    print(f\"Test Error: \\n Accuracy: {(100*correct):>0.1f}%, Avg loss: {test_loss:>8f} \\n\")\n"
      ],
      "metadata": {
        "id": "3VtocrIpicWt"
      },
      "execution_count": 36,
      "outputs": []
    },
    {
      "cell_type": "markdown",
      "source": [
        "The training process"
      ],
      "metadata": {
        "id": "h9fKTEupmFQ_"
      }
    },
    {
      "cell_type": "code",
      "source": [
        "epochs = 5\n",
        "for t in range(epochs):\n",
        "    print(f\"Epoch {t+1}\\n-------------------------------\")\n",
        "    train(train_dataloader, model, loss_function, optimizer)\n",
        "    test(test_dataloader, model, loss_function)\n",
        "print(\"Done!\")"
      ],
      "metadata": {
        "colab": {
          "base_uri": "https://localhost:8080/"
        },
        "id": "roOWFeWRlQ1I",
        "outputId": "cdb8d892-7162-4efd-e828-d0fbef3b3643"
      },
      "execution_count": 32,
      "outputs": [
        {
          "output_type": "stream",
          "name": "stdout",
          "text": [
            "Epoch 1\n",
            "-------------------------------\n",
            "loss: 2.309656  [   64/60000]\n",
            "loss: 2.300575  [ 6464/60000]\n",
            "loss: 2.281383  [12864/60000]\n",
            "loss: 2.283329  [19264/60000]\n",
            "loss: 2.248446  [25664/60000]\n",
            "loss: 2.235044  [32064/60000]\n",
            "loss: 2.242405  [38464/60000]\n",
            "loss: 2.212619  [44864/60000]\n",
            "loss: 2.216372  [51264/60000]\n",
            "loss: 2.185622  [57664/60000]\n",
            "Test Error: \n",
            " Accuracy: 36.5%, Avg loss: 2.180316 \n",
            "\n",
            "Epoch 2\n",
            "-------------------------------\n",
            "loss: 2.193666  [   64/60000]\n",
            "loss: 2.187094  [ 6464/60000]\n",
            "loss: 2.136517  [12864/60000]\n",
            "loss: 2.151797  [19264/60000]\n",
            "loss: 2.092989  [25664/60000]\n",
            "loss: 2.050664  [32064/60000]\n",
            "loss: 2.074626  [38464/60000]\n",
            "loss: 2.009214  [44864/60000]\n",
            "loss: 2.014082  [51264/60000]\n",
            "loss: 1.940784  [57664/60000]\n",
            "Test Error: \n",
            " Accuracy: 52.9%, Avg loss: 1.942819 \n",
            "\n",
            "Epoch 3\n",
            "-------------------------------\n",
            "loss: 1.980675  [   64/60000]\n",
            "loss: 1.951112  [ 6464/60000]\n",
            "loss: 1.845504  [12864/60000]\n",
            "loss: 1.877147  [19264/60000]\n",
            "loss: 1.755396  [25664/60000]\n",
            "loss: 1.719320  [32064/60000]\n",
            "loss: 1.732892  [38464/60000]\n",
            "loss: 1.641083  [44864/60000]\n",
            "loss: 1.660906  [51264/60000]\n",
            "loss: 1.548261  [57664/60000]\n",
            "Test Error: \n",
            " Accuracy: 58.0%, Avg loss: 1.570056 \n",
            "\n",
            "Epoch 4\n",
            "-------------------------------\n",
            "loss: 1.642470  [   64/60000]\n",
            "loss: 1.601018  [ 6464/60000]\n",
            "loss: 1.457487  [12864/60000]\n",
            "loss: 1.519181  [19264/60000]\n",
            "loss: 1.383718  [25664/60000]\n",
            "loss: 1.393082  [32064/60000]\n",
            "loss: 1.394010  [38464/60000]\n",
            "loss: 1.323955  [44864/60000]\n",
            "loss: 1.357306  [51264/60000]\n",
            "loss: 1.251498  [57664/60000]\n",
            "Test Error: \n",
            " Accuracy: 61.9%, Avg loss: 1.282594 \n",
            "\n",
            "Epoch 5\n",
            "-------------------------------\n",
            "loss: 1.368421  [   64/60000]\n",
            "loss: 1.345175  [ 6464/60000]\n",
            "loss: 1.182059  [12864/60000]\n",
            "loss: 1.280702  [19264/60000]\n",
            "loss: 1.145165  [25664/60000]\n",
            "loss: 1.183386  [32064/60000]\n",
            "loss: 1.188885  [38464/60000]\n",
            "loss: 1.130690  [44864/60000]\n",
            "loss: 1.171092  [51264/60000]\n",
            "loss: 1.085380  [57664/60000]\n",
            "Test Error: \n",
            " Accuracy: 63.9%, Avg loss: 1.109249 \n",
            "\n",
            "Done!\n"
          ]
        }
      ]
    },
    {
      "cell_type": "markdown",
      "source": [
        "`Save` and `Load` Models"
      ],
      "metadata": {
        "id": "u677dLeimI4l"
      }
    },
    {
      "cell_type": "code",
      "source": [
        "torch.save(model.state_dict(), \"model.pth\")"
      ],
      "metadata": {
        "id": "vtxryF-hjVog"
      },
      "execution_count": 33,
      "outputs": []
    },
    {
      "cell_type": "code",
      "source": [
        "model = NeuralNetwork().to(device) #Remember that\n",
        "model.load_state_dict(torch.load(\"model.pth\"))"
      ],
      "metadata": {
        "colab": {
          "base_uri": "https://localhost:8080/"
        },
        "id": "uOW9hFNSmjPf",
        "outputId": "9c7fe302-011a-471b-db68-44a5e3c335a0"
      },
      "execution_count": 34,
      "outputs": [
        {
          "output_type": "execute_result",
          "data": {
            "text/plain": [
              "<All keys matched successfully>"
            ]
          },
          "metadata": {},
          "execution_count": 34
        }
      ]
    },
    {
      "cell_type": "code",
      "source": [
        "classes = [\n",
        "    \"T-shirt/top\",\n",
        "    \"Trouser\",\n",
        "    \"Pullover\",\n",
        "    \"Dress\",\n",
        "    \"Coat\",\n",
        "    \"Sandal\",\n",
        "    \"Shirt\",\n",
        "    \"Sneaker\",\n",
        "    \"Bag\",\n",
        "    \"Ankle boot\",\n",
        "]\n",
        "\n",
        "model.eval()\n",
        "x, y = test_data[0][0], test_data[0][1]\n",
        "with torch.no_grad():\n",
        "    x = x.to(device)\n",
        "    pred = model(x)\n",
        "    predicted, actual = classes[pred[0].argmax(0)], classes[y]\n",
        "    print(f'Predicted: \"{predicted}\", Actual: \"{actual}\"')"
      ],
      "metadata": {
        "colab": {
          "base_uri": "https://localhost:8080/"
        },
        "id": "fo_YeLVHmoGA",
        "outputId": "12a54809-d00d-47d5-d38c-1f7963c66a31"
      },
      "execution_count": 35,
      "outputs": [
        {
          "output_type": "stream",
          "name": "stdout",
          "text": [
            "Predicted: \"Ankle boot\", Actual: \"Ankle boot\"\n"
          ]
        }
      ]
    },
    {
      "cell_type": "markdown",
      "source": [
        "### `torch.autograd`"
      ],
      "metadata": {
        "id": "cDLASZuLksYc"
      }
    },
    {
      "cell_type": "code",
      "source": [
        "import torch\n",
        "\n",
        "x = torch.ones(5)  # input tensor\n",
        "y = torch.zeros(3)  # expected output\n",
        "w = torch.randn(5, 3, requires_grad=True)\n",
        "b = torch.randn(3, requires_grad=True)\n",
        "z = torch.matmul(x, w)+b\n",
        "loss = torch.nn.functional.binary_cross_entropy_with_logits(z, y)"
      ],
      "metadata": {
        "id": "ljdE1L03nZtv"
      },
      "execution_count": 37,
      "outputs": []
    },
    {
      "cell_type": "code",
      "source": [
        "print(f\"Gradient function for z = {z.grad_fn}\")\n",
        "print(f\"Gradient function for loss = {loss.grad_fn}\")"
      ],
      "metadata": {
        "colab": {
          "base_uri": "https://localhost:8080/"
        },
        "id": "5x-HwVIOoSVH",
        "outputId": "f6ecd7b2-3b1d-47a8-e87f-506c2af4d014"
      },
      "execution_count": 38,
      "outputs": [
        {
          "output_type": "stream",
          "name": "stdout",
          "text": [
            "Gradient function for z = <AddBackward0 object at 0x7d085d284730>\n",
            "Gradient function for loss = <BinaryCrossEntropyWithLogitsBackward0 object at 0x7d085d286fb0>\n"
          ]
        }
      ]
    },
    {
      "cell_type": "code",
      "source": [
        "print(w.grad)\n",
        "print(b.grad)\n",
        "loss.backward()\n",
        "print(w.grad)\n",
        "print(b.grad)"
      ],
      "metadata": {
        "colab": {
          "base_uri": "https://localhost:8080/"
        },
        "id": "NXw5OMHDoXGT",
        "outputId": "94b297a3-33e7-4f68-d3f5-3cbbe279514c"
      },
      "execution_count": 41,
      "outputs": [
        {
          "output_type": "stream",
          "name": "stdout",
          "text": [
            "None\n",
            "None\n",
            "tensor([[0.2959, 0.0406, 0.0350],\n",
            "        [0.2959, 0.0406, 0.0350],\n",
            "        [0.2959, 0.0406, 0.0350],\n",
            "        [0.2959, 0.0406, 0.0350],\n",
            "        [0.2959, 0.0406, 0.0350]])\n",
            "tensor([0.2959, 0.0406, 0.0350])\n"
          ]
        }
      ]
    },
    {
      "cell_type": "code",
      "source": [
        "t = torch.tensor([[[1, 2],\n",
        "                  [3, 4]],\n",
        "                  [[5, 6],\n",
        "                  [7, 8]]])"
      ],
      "metadata": {
        "id": "T57ypQRKoSlm"
      },
      "execution_count": 44,
      "outputs": []
    },
    {
      "cell_type": "code",
      "source": [
        "t.shape"
      ],
      "metadata": {
        "colab": {
          "base_uri": "https://localhost:8080/"
        },
        "id": "bk4RkjV1sybd",
        "outputId": "57e25062-c897-4ab8-fd32-db116d678649"
      },
      "execution_count": 50,
      "outputs": [
        {
          "output_type": "execute_result",
          "data": {
            "text/plain": [
              "torch.Size([2, 2, 2])"
            ]
          },
          "metadata": {},
          "execution_count": 50
        }
      ]
    },
    {
      "cell_type": "code",
      "source": [
        "torch.flatten(t, start_dim=0, end_dim=1).shape"
      ],
      "metadata": {
        "colab": {
          "base_uri": "https://localhost:8080/"
        },
        "id": "FrpGHvBfsjys",
        "outputId": "42db8a76-4c70-459d-bdcb-31958befb59f"
      },
      "execution_count": 51,
      "outputs": [
        {
          "output_type": "execute_result",
          "data": {
            "text/plain": [
              "torch.Size([4, 2])"
            ]
          },
          "metadata": {},
          "execution_count": 51
        }
      ]
    },
    {
      "cell_type": "markdown",
      "source": [
        "## Implement Models"
      ],
      "metadata": {
        "id": "JZS7dNm_nZJD"
      }
    },
    {
      "cell_type": "markdown",
      "source": [
        "### BERT"
      ],
      "metadata": {
        "id": "sdTbrVqLiSSm"
      }
    },
    {
      "cell_type": "markdown",
      "source": [
        "**Pre-processing**"
      ],
      "metadata": {
        "id": "aqWkglz7dAjO"
      }
    },
    {
      "cell_type": "code",
      "source": [
        "import torch\n",
        "from torch import nn"
      ],
      "metadata": {
        "id": "Ys1AtL5qPWq1"
      },
      "execution_count": 32,
      "outputs": []
    },
    {
      "cell_type": "code",
      "source": [
        "import re\n",
        "# Define a str text\n",
        "text = (\n",
        "       'Hello, how are you? I am Romeo.n'\n",
        "       'Hello, Romeo My name is Juliet. Nice to meet you.n'\n",
        "       'Nice meet you too. How are you today?n'\n",
        "       'Great. My baseball team won the competition.n'\n",
        "       'Oh Congratulations, Julietn'\n",
        "       'Thanks you Romeo'\n",
        "   )\n",
        "print(f\"the type of 'text' is {type(text)}\")\n",
        "\n",
        "sentences = re.sub(\"[.,!?-]\", '', text.lower()).split('n')\n",
        "word_list = list(set(\" \".join(sentences).split()))\n",
        "\n",
        "print(word_list)"
      ],
      "metadata": {
        "colab": {
          "base_uri": "https://localhost:8080/"
        },
        "id": "q1a7eE7DJOdZ",
        "outputId": "971f4d3c-37e5-4bbb-8ee8-aae949921e40"
      },
      "execution_count": 25,
      "outputs": [
        {
          "output_type": "stream",
          "name": "stdout",
          "text": [
            "the type of 'text' is <class 'str'>\n",
            "['competitio', 'gratulatio', 'hello', 'how', 'the', 's', 'today', 'ame', 'ice', 'my', 'co', 'juliet', 'great', 'wo', 'oh', 'team', 'ks', 'tha', 'you', 'meet', 'am', 'to', 'is', 'are', 'i', 'too', 'romeo', 'baseball']\n"
          ]
        }
      ]
    },
    {
      "cell_type": "code",
      "source": [
        "word_dict = {'[PAD]': 0, '[CLS]': 1, '[SEP]': 2, '[MASK]': 3}\n",
        "for i, w in enumerate(word_list):\n",
        "   word_dict[w] = i + 4\n",
        "   number_dict = {i: w for i, w in enumerate(word_dict)}\n",
        "   vocab_size = len(word_dict)"
      ],
      "metadata": {
        "id": "jusyjioAKock"
      },
      "execution_count": 23,
      "outputs": []
    },
    {
      "cell_type": "markdown",
      "source": [
        "BERT has the following components:\n",
        "\n",
        "Embedding layers\n",
        "Attention Mask\n",
        "Encoder layer\n",
        "Multi-head attention\n",
        "Scaled dot product attention\n",
        "Position-wise feed-forward network\n",
        "BERT (assembling all the components)"
      ],
      "metadata": {
        "id": "5NitrApwMn-z"
      }
    },
    {
      "cell_type": "code",
      "source": [
        "def make_batch():\n",
        "   batch = []\n",
        "   positive = negative = 0\n",
        "   while positive != batch_size/2 or negative != batch_size/2:\n",
        "       tokens_a_index, tokens_b_index= randrange(len(sentences)), randrange(len(sentences))\n",
        "\n",
        "       tokens_a, tokens_b= token_list[tokens_a_index], token_list[tokens_b_index]\n",
        "\n",
        "       input_ids = [word_dict['[CLS]']] + tokens_a + [word_dict['[SEP]']] + tokens_b + [word_dict['[SEP]']]\n",
        "       segment_ids = [0] * (1 + len(tokens_a) + 1) + [1] * (len(tokens_b) + 1)\n",
        "\n",
        "       # MASK LM\n",
        "       n_pred =  min(max_pred, max(1, int(round(len(input_ids) * 0.15)))) # 15 % of tokens in one sentence\n",
        "       cand_maked_pos = [i for i, token in enumerate(input_ids)\n",
        "                         if token != word_dict['[CLS]'] and token != word_dict['[SEP]']]\n",
        "       shuffle(cand_maked_pos)\n",
        "       masked_tokens, masked_pos = [], []\n",
        "       for pos in cand_maked_pos[:n_pred]:\n",
        "           masked_pos.append(pos)\n",
        "           masked_tokens.append(input_ids[pos])\n",
        "           if random() < 0.8:  # 80%\n",
        "               input_ids[pos] = word_dict['[MASK]'] # make mask\n",
        "           elif random() < 0.5:  # 10%\n",
        "               index = randint(0, vocab_size - 1) # random index in vocabulary\n",
        "               input_ids[pos] = word_dict[number_dict[index]] # replace\n",
        "\n",
        "       # Zero Paddings\n",
        "       n_pad = maxlen - len(input_ids)\n",
        "       input_ids.extend([0] * n_pad)\n",
        "       segment_ids.extend([0] * n_pad)\n",
        "\n",
        "       # Zero Padding (100% - 15%) tokens\n",
        "       if max_pred > n_pred:\n",
        "           n_pad = max_pred - n_pred\n",
        "           masked_tokens.extend([0] * n_pad)\n",
        "           masked_pos.extend([0] * n_pad)\n",
        "\n",
        "       if tokens_a_index + 1 == tokens_b_index and positive < batch_size/2:\n",
        "           batch.append([input_ids, segment_ids, masked_tokens, masked_pos, True]) # IsNext\n",
        "           positive += 1\n",
        "       elif tokens_a_index + 1 != tokens_b_index and negative < batch_size/2:\n",
        "           batch.append([input_ids, segment_ids, masked_tokens, masked_pos, False]) # NotNext\n",
        "           negative += 1\n",
        "   return batch"
      ],
      "metadata": {
        "id": "ILe0MS3zLMVT"
      },
      "execution_count": 27,
      "outputs": []
    },
    {
      "cell_type": "code",
      "source": [
        "print(torch.arange(30, dtype=torch.long).expand_as(input_ids))"
      ],
      "metadata": {
        "colab": {
          "base_uri": "https://localhost:8080/",
          "height": 139
        },
        "id": "j3Opg-tsLg58",
        "outputId": "a3cb21c1-6251-4e4a-c7a3-be2620875a94"
      },
      "execution_count": 30,
      "outputs": [
        {
          "output_type": "error",
          "ename": "NameError",
          "evalue": "name 'input_ids' is not defined",
          "traceback": [
            "\u001b[0;31m---------------------------------------------------------------------------\u001b[0m",
            "\u001b[0;31mNameError\u001b[0m                                 Traceback (most recent call last)",
            "\u001b[0;32m<ipython-input-30-f87aec73de39>\u001b[0m in \u001b[0;36m<cell line: 1>\u001b[0;34m()\u001b[0m\n\u001b[0;32m----> 1\u001b[0;31m \u001b[0mprint\u001b[0m\u001b[0;34m(\u001b[0m\u001b[0mtorch\u001b[0m\u001b[0;34m.\u001b[0m\u001b[0marange\u001b[0m\u001b[0;34m(\u001b[0m\u001b[0;36m30\u001b[0m\u001b[0;34m,\u001b[0m \u001b[0mdtype\u001b[0m\u001b[0;34m=\u001b[0m\u001b[0mtorch\u001b[0m\u001b[0;34m.\u001b[0m\u001b[0mlong\u001b[0m\u001b[0;34m)\u001b[0m\u001b[0;34m.\u001b[0m\u001b[0mexpand_as\u001b[0m\u001b[0;34m(\u001b[0m\u001b[0minput_ids\u001b[0m\u001b[0;34m)\u001b[0m\u001b[0;34m)\u001b[0m\u001b[0;34m\u001b[0m\u001b[0;34m\u001b[0m\u001b[0m\n\u001b[0m",
            "\u001b[0;31mNameError\u001b[0m: name 'input_ids' is not defined"
          ]
        }
      ]
    },
    {
      "cell_type": "code",
      "source": [
        "class Embedding(nn.Module):\n",
        "   def __init__(self):\n",
        "       super(Embedding, self).__init__()\n",
        "       self.tok_embed = nn.Embedding(vocab_size, d_model)  # token embedding\n",
        "       self.pos_embed = nn.Embedding(maxlen, d_model)  # position embedding\n",
        "       self.seg_embed = nn.Embedding(n_segments, d_model)  # segment(token type) embedding\n",
        "       self.norm = nn.LayerNorm(d_model)\n",
        "\n",
        "   def forward(self, x, seg):\n",
        "       seq_len = x.size(1)\n",
        "       pos = torch.arange(seq_len, dtype=torch.long)\n",
        "       pos = pos.unsqueeze(0).expand_as(x)  # (seq_len,) -> (batch_size, seq_len)\n",
        "       embedding = self.tok_embed(x) + self.pos_embed(pos) + self.seg_embed(seg)\n",
        "       return self.norm(embedding)"
      ],
      "metadata": {
        "id": "oyAh_7djPSe-"
      },
      "execution_count": 33,
      "outputs": []
    },
    {
      "cell_type": "code",
      "source": [],
      "metadata": {
        "id": "O1s2RQ2FPgKn"
      },
      "execution_count": null,
      "outputs": []
    }
  ]
}