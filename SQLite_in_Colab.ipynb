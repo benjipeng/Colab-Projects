{
  "nbformat": 4,
  "nbformat_minor": 0,
  "metadata": {
    "colab": {
      "provenance": [],
      "authorship_tag": "ABX9TyNOespeNPQWylPtPzY9pDp9",
      "include_colab_link": true
    },
    "kernelspec": {
      "name": "python3",
      "display_name": "Python 3"
    },
    "language_info": {
      "name": "python"
    }
  },
  "cells": [
    {
      "cell_type": "markdown",
      "metadata": {
        "id": "view-in-github",
        "colab_type": "text"
      },
      "source": [
        "<a href=\"https://colab.research.google.com/github/benjipeng/Colab-Projects/blob/main/SQLite_in_Colab.ipynb\" target=\"_parent\"><img src=\"https://colab.research.google.com/assets/colab-badge.svg\" alt=\"Open In Colab\"/></a>"
      ]
    },
    {
      "cell_type": "code",
      "source": [
        "!pip install ipython-sql # Not needed for Colab 😆 Thanks Google"
      ],
      "metadata": {
        "colab": {
          "base_uri": "https://localhost:8080/"
        },
        "id": "eUFhNRw8KKeI",
        "outputId": "34256367-babb-4239-df9e-6e16d60db267"
      },
      "execution_count": 6,
      "outputs": [
        {
          "output_type": "stream",
          "name": "stdout",
          "text": [
            "Requirement already satisfied: ipython-sql in /usr/local/lib/python3.10/dist-packages (0.5.0)\n",
            "Requirement already satisfied: prettytable in /usr/local/lib/python3.10/dist-packages (from ipython-sql) (3.10.0)\n",
            "Requirement already satisfied: ipython in /usr/local/lib/python3.10/dist-packages (from ipython-sql) (7.34.0)\n",
            "Requirement already satisfied: sqlalchemy>=2.0 in /usr/local/lib/python3.10/dist-packages (from ipython-sql) (2.0.29)\n",
            "Requirement already satisfied: sqlparse in /usr/local/lib/python3.10/dist-packages (from ipython-sql) (0.4.4)\n",
            "Requirement already satisfied: six in /usr/local/lib/python3.10/dist-packages (from ipython-sql) (1.16.0)\n",
            "Requirement already satisfied: ipython-genutils in /usr/local/lib/python3.10/dist-packages (from ipython-sql) (0.2.0)\n",
            "Requirement already satisfied: typing-extensions>=4.6.0 in /usr/local/lib/python3.10/dist-packages (from sqlalchemy>=2.0->ipython-sql) (4.10.0)\n",
            "Requirement already satisfied: greenlet!=0.4.17 in /usr/local/lib/python3.10/dist-packages (from sqlalchemy>=2.0->ipython-sql) (3.0.3)\n",
            "Requirement already satisfied: setuptools>=18.5 in /usr/local/lib/python3.10/dist-packages (from ipython->ipython-sql) (67.7.2)\n",
            "Collecting jedi>=0.16 (from ipython->ipython-sql)\n",
            "  Downloading jedi-0.19.1-py2.py3-none-any.whl (1.6 MB)\n",
            "\u001b[2K     \u001b[90m━━━━━━━━━━━━━━━━━━━━━━━━━━━━━━━━━━━━━━━━\u001b[0m \u001b[32m1.6/1.6 MB\u001b[0m \u001b[31m13.3 MB/s\u001b[0m eta \u001b[36m0:00:00\u001b[0m\n",
            "\u001b[?25hRequirement already satisfied: decorator in /usr/local/lib/python3.10/dist-packages (from ipython->ipython-sql) (4.4.2)\n",
            "Requirement already satisfied: pickleshare in /usr/local/lib/python3.10/dist-packages (from ipython->ipython-sql) (0.7.5)\n",
            "Requirement already satisfied: traitlets>=4.2 in /usr/local/lib/python3.10/dist-packages (from ipython->ipython-sql) (5.7.1)\n",
            "Requirement already satisfied: prompt-toolkit!=3.0.0,!=3.0.1,<3.1.0,>=2.0.0 in /usr/local/lib/python3.10/dist-packages (from ipython->ipython-sql) (3.0.43)\n",
            "Requirement already satisfied: pygments in /usr/local/lib/python3.10/dist-packages (from ipython->ipython-sql) (2.16.1)\n",
            "Requirement already satisfied: backcall in /usr/local/lib/python3.10/dist-packages (from ipython->ipython-sql) (0.2.0)\n",
            "Requirement already satisfied: matplotlib-inline in /usr/local/lib/python3.10/dist-packages (from ipython->ipython-sql) (0.1.6)\n",
            "Requirement already satisfied: pexpect>4.3 in /usr/local/lib/python3.10/dist-packages (from ipython->ipython-sql) (4.9.0)\n",
            "Requirement already satisfied: wcwidth in /usr/local/lib/python3.10/dist-packages (from prettytable->ipython-sql) (0.2.13)\n",
            "Requirement already satisfied: parso<0.9.0,>=0.8.3 in /usr/local/lib/python3.10/dist-packages (from jedi>=0.16->ipython->ipython-sql) (0.8.3)\n",
            "Requirement already satisfied: ptyprocess>=0.5 in /usr/local/lib/python3.10/dist-packages (from pexpect>4.3->ipython->ipython-sql) (0.7.0)\n",
            "Installing collected packages: jedi\n",
            "Successfully installed jedi-0.19.1\n"
          ]
        }
      ]
    },
    {
      "cell_type": "code",
      "execution_count": 1,
      "metadata": {
        "id": "-g59xORTw9zC"
      },
      "outputs": [],
      "source": [
        "%load_ext sql"
      ]
    },
    {
      "cell_type": "code",
      "source": [
        "%%sql\n",
        "sqlite:///test.db"
      ],
      "metadata": {
        "id": "WTu0V2fxxKVz"
      },
      "execution_count": 2,
      "outputs": []
    },
    {
      "cell_type": "code",
      "source": [
        "%%sql\n",
        "create table sample(column_1 int, column_2 varchar);\n",
        "insert into sample values (1,'abc'),(2,'abcd');\n",
        "select * from sample;"
      ],
      "metadata": {
        "colab": {
          "base_uri": "https://localhost:8080/"
        },
        "id": "VX1XuDRVxTUn",
        "outputId": "1e88a9d8-dee5-4f87-a4a0-a708f18d9961"
      },
      "execution_count": 14,
      "outputs": [
        {
          "output_type": "stream",
          "name": "stdout",
          "text": [
            " * sqlite:///test.db\n",
            "(sqlite3.OperationalError) table sample already exists\n",
            "[SQL: create table sample(column_1 int, column_2 varchar);]\n",
            "(Background on this error at: https://sqlalche.me/e/20/e3q8)\n"
          ]
        }
      ]
    },
    {
      "cell_type": "code",
      "source": [
        "%%sql\n",
        "DROP TABLE IF EXISTS driver;\n",
        "DROP TABLE IF EXISTS city;\n",
        "DROP TABLE IF EXISTS daily_ride;"
      ],
      "metadata": {
        "colab": {
          "base_uri": "https://localhost:8080/"
        },
        "id": "ChAucqP7N_-g",
        "outputId": "d1659f98-bccc-4db1-f72e-f01c77e93fc7"
      },
      "execution_count": 16,
      "outputs": [
        {
          "output_type": "stream",
          "name": "stdout",
          "text": [
            " * sqlite:///test.db\n",
            "Done.\n",
            "Done.\n",
            "Done.\n"
          ]
        },
        {
          "output_type": "execute_result",
          "data": {
            "text/plain": [
              "[]"
            ]
          },
          "metadata": {},
          "execution_count": 16
        }
      ]
    },
    {
      "cell_type": "code",
      "source": [
        "%%sql\n",
        "-- drop table if exists city\n",
        "create table city(\n",
        "    id INTEGER PRIMARY KEY AUTOINCREMENT,\n",
        "    name varchar(30) not null,\n",
        "    country_code varchar(5)\n",
        ");\n",
        "\n",
        "insert into city (name, country_code) values ('Fanhu', 'USA');\n",
        "insert into city (name, country_code) values ('Goodlands', 'USA');\n",
        "insert into city (name, country_code) values ('Furong', 'USA');\n",
        "insert into city (name, country_code) values ('Guxian', 'JPN');\n",
        "insert into city (name, country_code) values ('Ar Rahad', 'OMN');\n",
        "insert into city (name, country_code) values ('Uitenhage', 'USA');\n",
        "insert into city (name, country_code) values ('Yanglinshi', 'JPN');\n",
        "insert into city (name, country_code) values ('Mengjia', 'JPN');\n",
        "\n",
        "-- drop table if exists driver\n",
        "create table driver(\n",
        "    id INTEGER PRIMARY KEY AUTOINCREMENT,\n",
        "    first_name varchar(20),\n",
        "    last_name varchar(20),\n",
        "    vehicle_id int,\n",
        "    city_id int\n",
        ");\n",
        "\n",
        "insert into driver (first_name, last_name, vehicle_id, city_id) values ('Cicely', 'Heaker', 1, 5);\n",
        "insert into driver (first_name, last_name, vehicle_id, city_id) values ('Brandy', 'Rizzone', 2, 2);\n",
        "insert into driver (first_name, last_name, vehicle_id, city_id) values ('Hewitt', 'Foden', 3, 2);\n",
        "insert into driver (first_name, last_name, vehicle_id, city_id) values ('Freddie', 'Rohfsen', 4, 8);\n",
        "insert into driver (first_name, last_name, vehicle_id, city_id) values ('Johann', 'McRill', 5, 1);\n",
        "insert into driver (first_name, last_name, vehicle_id, city_id) values ('Arabella', 'MacKeague', 6, 4);\n",
        "insert into driver (first_name, last_name, vehicle_id, city_id) values ('Jonie', 'Greenan', 7, 8);\n",
        "insert into driver (first_name, last_name, vehicle_id, city_id) values ('Alysa', 'Hanselman', 8, 2);\n",
        "insert into driver (first_name, last_name, vehicle_id, city_id) values ('Vale', 'Heathwood', 9, 1);\n",
        "insert into driver (first_name, last_name, vehicle_id, city_id) values ('Kennedy', 'Headon', 10, 7);\n",
        "insert into driver (first_name, last_name, vehicle_id, city_id) values ('Ugo', 'Rapper', 11, 1);\n",
        "insert into driver (first_name, last_name, vehicle_id, city_id) values ('Laverna', 'Harkin', 12, 3);\n",
        "insert into driver (first_name, last_name, vehicle_id, city_id) values ('Washington', 'Kingdon', 13, 8);\n",
        "insert into driver (first_name, last_name, vehicle_id, city_id) values ('Rogers', 'Ferronet', 14, 7);\n",
        "insert into driver (first_name, last_name, vehicle_id, city_id) values ('Raleigh', 'Norgan', 15, 5);\n",
        "\n",
        "-- drop table if exists daily_ride\n",
        "create table daily_ride(\n",
        "    date date,\n",
        "    driver_id int,\n",
        "    amount_earned decimal(6,2),\n",
        "    ride_distance decimal(5,2)\n",
        ");\n",
        "\n",
        "insert into daily_ride (date, driver_id, amount_earned, ride_distance) values ('2021-03-11', 8, 198.41, 29.67);\n",
        "insert into daily_ride (date, driver_id, amount_earned, ride_distance) values ('2021-03-09', 10, 65.82, 23.39);\n",
        "insert into daily_ride (date, driver_id, amount_earned, ride_distance) values ('2021-03-03', 8, 187.77, 5.77);\n",
        "insert into daily_ride (date, driver_id, amount_earned, ride_distance) values ('2021-03-28', 13, 273.41, 41.34);\n",
        "insert into daily_ride (date, driver_id, amount_earned, ride_distance) values ('2021-03-02', 9, 102.92, 94.51);\n",
        "insert into daily_ride (date, driver_id, amount_earned, ride_distance) values ('2021-03-02', 1, 74.85, 38.8);\n",
        "insert into daily_ride (date, driver_id, amount_earned, ride_distance) values ('2021-03-06', 4, 312.21, 70.7);\n",
        "insert into daily_ride (date, driver_id, amount_earned, ride_distance) values ('2021-03-19', 1, 148.68, 59.91);\n",
        "insert into daily_ride (date, driver_id, amount_earned, ride_distance) values ('2021-03-21', 14, 167.77, 35.76);\n",
        "insert into daily_ride (date, driver_id, amount_earned, ride_distance) values ('2021-03-24', 9, 223.94, 7.49);\n",
        "insert into daily_ride (date, driver_id, amount_earned, ride_distance) values ('2021-03-16', 9, 5.88, 6.5);\n",
        "insert into daily_ride (date, driver_id, amount_earned, ride_distance) values ('2021-03-19', 13, 38.31, 25.31);\n",
        "insert into daily_ride (date, driver_id, amount_earned, ride_distance) values ('2021-03-24', 4, 33.94, 71.32);\n",
        "insert into daily_ride (date, driver_id, amount_earned, ride_distance) values ('2021-03-14', 13, 71.26, 94.04);\n",
        "insert into daily_ride (date, driver_id, amount_earned, ride_distance) values ('2021-03-23', 8, 152.09, 1.5);\n",
        "insert into daily_ride (date, driver_id, amount_earned, ride_distance) values ('2021-03-06', 6, 206.48, 8.88);\n",
        "insert into daily_ride (date, driver_id, amount_earned, ride_distance) values ('2021-03-20', 7, 261.01, 97.81);\n",
        "insert into daily_ride (date, driver_id, amount_earned, ride_distance) values ('2021-03-03', 1, 119.72, 6.63);\n",
        "insert into daily_ride (date, driver_id, amount_earned, ride_distance) values ('2021-03-13', 10, 77.95, 8.86);\n",
        "insert into daily_ride (date, driver_id, amount_earned, ride_distance) values ('2021-03-06', 14, 102.9, 36.22);\n",
        "insert into daily_ride (date, driver_id, amount_earned, ride_distance) values ('2021-03-17', 7, 263.06, 63.85);\n",
        "insert into daily_ride (date, driver_id, amount_earned, ride_distance) values ('2021-03-05', 6, 125.6, 83.41);\n",
        "insert into daily_ride (date, driver_id, amount_earned, ride_distance) values ('2021-03-18', 1, 80.19, 81.05);\n",
        "insert into daily_ride (date, driver_id, amount_earned, ride_distance) values ('2021-03-18', 13, 349.35, 60.93);\n",
        "insert into daily_ride (date, driver_id, amount_earned, ride_distance) values ('2021-03-18', 3, 230.82, 35.77);\n",
        "insert into daily_ride (date, driver_id, amount_earned, ride_distance) values ('2021-03-31', 11, 156.39, 4.28);\n",
        "insert into daily_ride (date, driver_id, amount_earned, ride_distance) values ('2021-03-03', 10, 376.38, 72.98);\n",
        "insert into daily_ride (date, driver_id, amount_earned, ride_distance) values ('2021-03-05', 7, 114.81, 14.06);\n",
        "insert into daily_ride (date, driver_id, amount_earned, ride_distance) values ('2021-03-23', 1, 11.3, 75.65);\n",
        "insert into daily_ride (date, driver_id, amount_earned, ride_distance) values ('2021-03-21', 5, 398.57, 11.91);\n",
        "insert into daily_ride (date, driver_id, amount_earned, ride_distance) values ('2021-03-28', 9, 178.44, 66.02);\n",
        "insert into daily_ride (date, driver_id, amount_earned, ride_distance) values ('2021-03-22', 13, 266.44, 12.16);\n",
        "insert into daily_ride (date, driver_id, amount_earned, ride_distance) values ('2021-03-27', 13, 382.47, 37.16);\n",
        "insert into daily_ride (date, driver_id, amount_earned, ride_distance) values ('2021-03-28', 13, 327.74, 79.3);\n",
        "insert into daily_ride (date, driver_id, amount_earned, ride_distance) values ('2021-03-14', 3, 74.7, 26.2);\n",
        "insert into daily_ride (date, driver_id, amount_earned, ride_distance) values ('2021-03-03', 9, 157.97, 36.15);\n",
        "insert into daily_ride (date, driver_id, amount_earned, ride_distance) values ('2021-03-22', 13, 212.57, 23.22);\n",
        "insert into daily_ride (date, driver_id, amount_earned, ride_distance) values ('2021-03-13', 1, 301.57, 36.76);\n",
        "insert into daily_ride (date, driver_id, amount_earned, ride_distance) values ('2021-03-30', 5, 31.8, 73.93);\n",
        "insert into daily_ride (date, driver_id, amount_earned, ride_distance) values ('2021-03-12', 3, 396.49, 30.46);\n",
        "insert into daily_ride (date, driver_id, amount_earned, ride_distance) values ('2021-03-21', 2, 222.17, 57.34);\n",
        "insert into daily_ride (date, driver_id, amount_earned, ride_distance) values ('2021-03-12', 3, 363.4, 41.21);\n",
        "insert into daily_ride (date, driver_id, amount_earned, ride_distance) values ('2021-03-12', 9, 227.96, 11.48);\n",
        "insert into daily_ride (date, driver_id, amount_earned, ride_distance) values ('2021-03-21', 5, 77.59, 71.0);\n",
        "insert into daily_ride (date, driver_id, amount_earned, ride_distance) values ('2021-03-14', 8, 275.88, 97.34);\n",
        "insert into daily_ride (date, driver_id, amount_earned, ride_distance) values ('2021-03-16', 5, 365.88, 96.7);\n",
        "insert into daily_ride (date, driver_id, amount_earned, ride_distance) values ('2021-03-14', 4, 271.33, 59.66);\n",
        "insert into daily_ride (date, driver_id, amount_earned, ride_distance) values ('2021-03-18', 3, 383.73, 79.69);\n",
        "insert into daily_ride (date, driver_id, amount_earned, ride_distance) values ('2021-03-08', 6, 245.05, 79.13);\n",
        "insert into daily_ride (date, driver_id, amount_earned, ride_distance) values ('2021-03-14', 6, 328.01, 91.68);\n"
      ],
      "metadata": {
        "colab": {
          "base_uri": "https://localhost:8080/"
        },
        "id": "uvfz7XiKxYmT",
        "outputId": "908b984a-9839-479b-8ef3-3136f543f074"
      },
      "execution_count": 17,
      "outputs": [
        {
          "output_type": "stream",
          "name": "stdout",
          "text": [
            " * sqlite:///test.db\n",
            "Done.\n",
            "1 rows affected.\n",
            "1 rows affected.\n",
            "1 rows affected.\n",
            "1 rows affected.\n",
            "1 rows affected.\n",
            "1 rows affected.\n",
            "1 rows affected.\n",
            "1 rows affected.\n",
            "Done.\n",
            "1 rows affected.\n",
            "1 rows affected.\n",
            "1 rows affected.\n",
            "1 rows affected.\n",
            "1 rows affected.\n",
            "1 rows affected.\n",
            "1 rows affected.\n",
            "1 rows affected.\n",
            "1 rows affected.\n",
            "1 rows affected.\n",
            "1 rows affected.\n",
            "1 rows affected.\n",
            "1 rows affected.\n",
            "1 rows affected.\n",
            "1 rows affected.\n",
            "Done.\n",
            "1 rows affected.\n",
            "1 rows affected.\n",
            "1 rows affected.\n",
            "1 rows affected.\n",
            "1 rows affected.\n",
            "1 rows affected.\n",
            "1 rows affected.\n",
            "1 rows affected.\n",
            "1 rows affected.\n",
            "1 rows affected.\n",
            "1 rows affected.\n",
            "1 rows affected.\n",
            "1 rows affected.\n",
            "1 rows affected.\n",
            "1 rows affected.\n",
            "1 rows affected.\n",
            "1 rows affected.\n",
            "1 rows affected.\n",
            "1 rows affected.\n",
            "1 rows affected.\n",
            "1 rows affected.\n",
            "1 rows affected.\n",
            "1 rows affected.\n",
            "1 rows affected.\n",
            "1 rows affected.\n",
            "1 rows affected.\n",
            "1 rows affected.\n",
            "1 rows affected.\n",
            "1 rows affected.\n",
            "1 rows affected.\n",
            "1 rows affected.\n",
            "1 rows affected.\n",
            "1 rows affected.\n",
            "1 rows affected.\n",
            "1 rows affected.\n",
            "1 rows affected.\n",
            "1 rows affected.\n",
            "1 rows affected.\n",
            "1 rows affected.\n",
            "1 rows affected.\n",
            "1 rows affected.\n",
            "1 rows affected.\n",
            "1 rows affected.\n",
            "1 rows affected.\n",
            "1 rows affected.\n",
            "1 rows affected.\n",
            "1 rows affected.\n",
            "1 rows affected.\n",
            "1 rows affected.\n",
            "1 rows affected.\n"
          ]
        },
        {
          "output_type": "execute_result",
          "data": {
            "text/plain": [
              "[]"
            ]
          },
          "metadata": {},
          "execution_count": 17
        }
      ]
    },
    {
      "cell_type": "code",
      "source": [],
      "metadata": {
        "colab": {
          "base_uri": "https://localhost:8080/"
        },
        "id": "tN8AOYIEL9UJ",
        "outputId": "ac42ff9a-0551-4ddd-96c7-7c812ba3814e"
      },
      "execution_count": 23,
      "outputs": [
        {
          "output_type": "stream",
          "name": "stdout",
          "text": [
            "/content\n"
          ]
        }
      ]
    },
    {
      "cell_type": "code",
      "source": [
        "%%sql\n",
        "select *  from city"
      ],
      "metadata": {
        "colab": {
          "base_uri": "https://localhost:8080/",
          "height": 243
        },
        "id": "m73z7rJhLR35",
        "outputId": "ad08af52-9b74-4dc3-8dcc-2fa70c0d90d2"
      },
      "execution_count": 18,
      "outputs": [
        {
          "output_type": "stream",
          "name": "stdout",
          "text": [
            " * sqlite:///test.db\n",
            "Done.\n"
          ]
        },
        {
          "output_type": "execute_result",
          "data": {
            "text/plain": [
              "[(1, 'Fanhu', 'USA'),\n",
              " (2, 'Goodlands', 'USA'),\n",
              " (3, 'Furong', 'USA'),\n",
              " (4, 'Guxian', 'JPN'),\n",
              " (5, 'Ar Rahad', 'OMN'),\n",
              " (6, 'Uitenhage', 'USA'),\n",
              " (7, 'Yanglinshi', 'JPN'),\n",
              " (8, 'Mengjia', 'JPN')]"
            ],
            "text/html": [
              "<table>\n",
              "    <thead>\n",
              "        <tr>\n",
              "            <th>id</th>\n",
              "            <th>name</th>\n",
              "            <th>country_code</th>\n",
              "        </tr>\n",
              "    </thead>\n",
              "    <tbody>\n",
              "        <tr>\n",
              "            <td>1</td>\n",
              "            <td>Fanhu</td>\n",
              "            <td>USA</td>\n",
              "        </tr>\n",
              "        <tr>\n",
              "            <td>2</td>\n",
              "            <td>Goodlands</td>\n",
              "            <td>USA</td>\n",
              "        </tr>\n",
              "        <tr>\n",
              "            <td>3</td>\n",
              "            <td>Furong</td>\n",
              "            <td>USA</td>\n",
              "        </tr>\n",
              "        <tr>\n",
              "            <td>4</td>\n",
              "            <td>Guxian</td>\n",
              "            <td>JPN</td>\n",
              "        </tr>\n",
              "        <tr>\n",
              "            <td>5</td>\n",
              "            <td>Ar Rahad</td>\n",
              "            <td>OMN</td>\n",
              "        </tr>\n",
              "        <tr>\n",
              "            <td>6</td>\n",
              "            <td>Uitenhage</td>\n",
              "            <td>USA</td>\n",
              "        </tr>\n",
              "        <tr>\n",
              "            <td>7</td>\n",
              "            <td>Yanglinshi</td>\n",
              "            <td>JPN</td>\n",
              "        </tr>\n",
              "        <tr>\n",
              "            <td>8</td>\n",
              "            <td>Mengjia</td>\n",
              "            <td>JPN</td>\n",
              "        </tr>\n",
              "    </tbody>\n",
              "</table>"
            ]
          },
          "metadata": {},
          "execution_count": 18
        }
      ]
    },
    {
      "cell_type": "code",
      "source": [
        "%%sql\n",
        "select * from driver"
      ],
      "metadata": {
        "colab": {
          "base_uri": "https://localhost:8080/",
          "height": 390
        },
        "id": "aLb5RCDnNHRV",
        "outputId": "6fb97f16-c9d5-4882-ed52-b05d28f9a128"
      },
      "execution_count": 19,
      "outputs": [
        {
          "output_type": "stream",
          "name": "stdout",
          "text": [
            " * sqlite:///test.db\n",
            "Done.\n"
          ]
        },
        {
          "output_type": "execute_result",
          "data": {
            "text/plain": [
              "[(1, 'Cicely', 'Heaker', 1, 5),\n",
              " (2, 'Brandy', 'Rizzone', 2, 2),\n",
              " (3, 'Hewitt', 'Foden', 3, 2),\n",
              " (4, 'Freddie', 'Rohfsen', 4, 8),\n",
              " (5, 'Johann', 'McRill', 5, 1),\n",
              " (6, 'Arabella', 'MacKeague', 6, 4),\n",
              " (7, 'Jonie', 'Greenan', 7, 8),\n",
              " (8, 'Alysa', 'Hanselman', 8, 2),\n",
              " (9, 'Vale', 'Heathwood', 9, 1),\n",
              " (10, 'Kennedy', 'Headon', 10, 7),\n",
              " (11, 'Ugo', 'Rapper', 11, 1),\n",
              " (12, 'Laverna', 'Harkin', 12, 3),\n",
              " (13, 'Washington', 'Kingdon', 13, 8),\n",
              " (14, 'Rogers', 'Ferronet', 14, 7),\n",
              " (15, 'Raleigh', 'Norgan', 15, 5)]"
            ],
            "text/html": [
              "<table>\n",
              "    <thead>\n",
              "        <tr>\n",
              "            <th>id</th>\n",
              "            <th>first_name</th>\n",
              "            <th>last_name</th>\n",
              "            <th>vehicle_id</th>\n",
              "            <th>city_id</th>\n",
              "        </tr>\n",
              "    </thead>\n",
              "    <tbody>\n",
              "        <tr>\n",
              "            <td>1</td>\n",
              "            <td>Cicely</td>\n",
              "            <td>Heaker</td>\n",
              "            <td>1</td>\n",
              "            <td>5</td>\n",
              "        </tr>\n",
              "        <tr>\n",
              "            <td>2</td>\n",
              "            <td>Brandy</td>\n",
              "            <td>Rizzone</td>\n",
              "            <td>2</td>\n",
              "            <td>2</td>\n",
              "        </tr>\n",
              "        <tr>\n",
              "            <td>3</td>\n",
              "            <td>Hewitt</td>\n",
              "            <td>Foden</td>\n",
              "            <td>3</td>\n",
              "            <td>2</td>\n",
              "        </tr>\n",
              "        <tr>\n",
              "            <td>4</td>\n",
              "            <td>Freddie</td>\n",
              "            <td>Rohfsen</td>\n",
              "            <td>4</td>\n",
              "            <td>8</td>\n",
              "        </tr>\n",
              "        <tr>\n",
              "            <td>5</td>\n",
              "            <td>Johann</td>\n",
              "            <td>McRill</td>\n",
              "            <td>5</td>\n",
              "            <td>1</td>\n",
              "        </tr>\n",
              "        <tr>\n",
              "            <td>6</td>\n",
              "            <td>Arabella</td>\n",
              "            <td>MacKeague</td>\n",
              "            <td>6</td>\n",
              "            <td>4</td>\n",
              "        </tr>\n",
              "        <tr>\n",
              "            <td>7</td>\n",
              "            <td>Jonie</td>\n",
              "            <td>Greenan</td>\n",
              "            <td>7</td>\n",
              "            <td>8</td>\n",
              "        </tr>\n",
              "        <tr>\n",
              "            <td>8</td>\n",
              "            <td>Alysa</td>\n",
              "            <td>Hanselman</td>\n",
              "            <td>8</td>\n",
              "            <td>2</td>\n",
              "        </tr>\n",
              "        <tr>\n",
              "            <td>9</td>\n",
              "            <td>Vale</td>\n",
              "            <td>Heathwood</td>\n",
              "            <td>9</td>\n",
              "            <td>1</td>\n",
              "        </tr>\n",
              "        <tr>\n",
              "            <td>10</td>\n",
              "            <td>Kennedy</td>\n",
              "            <td>Headon</td>\n",
              "            <td>10</td>\n",
              "            <td>7</td>\n",
              "        </tr>\n",
              "        <tr>\n",
              "            <td>11</td>\n",
              "            <td>Ugo</td>\n",
              "            <td>Rapper</td>\n",
              "            <td>11</td>\n",
              "            <td>1</td>\n",
              "        </tr>\n",
              "        <tr>\n",
              "            <td>12</td>\n",
              "            <td>Laverna</td>\n",
              "            <td>Harkin</td>\n",
              "            <td>12</td>\n",
              "            <td>3</td>\n",
              "        </tr>\n",
              "        <tr>\n",
              "            <td>13</td>\n",
              "            <td>Washington</td>\n",
              "            <td>Kingdon</td>\n",
              "            <td>13</td>\n",
              "            <td>8</td>\n",
              "        </tr>\n",
              "        <tr>\n",
              "            <td>14</td>\n",
              "            <td>Rogers</td>\n",
              "            <td>Ferronet</td>\n",
              "            <td>14</td>\n",
              "            <td>7</td>\n",
              "        </tr>\n",
              "        <tr>\n",
              "            <td>15</td>\n",
              "            <td>Raleigh</td>\n",
              "            <td>Norgan</td>\n",
              "            <td>15</td>\n",
              "            <td>5</td>\n",
              "        </tr>\n",
              "    </tbody>\n",
              "</table>"
            ]
          },
          "metadata": {},
          "execution_count": 19
        }
      ]
    },
    {
      "cell_type": "code",
      "source": [
        "%%sql\n",
        "select * from daily_ride limit 10"
      ],
      "metadata": {
        "colab": {
          "base_uri": "https://localhost:8080/",
          "height": 285
        },
        "id": "sDtt66c7NSBd",
        "outputId": "20744266-8d7e-43fa-bbd1-cbebc0961e85"
      },
      "execution_count": 20,
      "outputs": [
        {
          "output_type": "stream",
          "name": "stdout",
          "text": [
            " * sqlite:///test.db\n",
            "Done.\n"
          ]
        },
        {
          "output_type": "execute_result",
          "data": {
            "text/plain": [
              "[('2021-03-11', 8, 198.41, 29.67),\n",
              " ('2021-03-09', 10, 65.82, 23.39),\n",
              " ('2021-03-03', 8, 187.77, 5.77),\n",
              " ('2021-03-28', 13, 273.41, 41.34),\n",
              " ('2021-03-02', 9, 102.92, 94.51),\n",
              " ('2021-03-02', 1, 74.85, 38.8),\n",
              " ('2021-03-06', 4, 312.21, 70.7),\n",
              " ('2021-03-19', 1, 148.68, 59.91),\n",
              " ('2021-03-21', 14, 167.77, 35.76),\n",
              " ('2021-03-24', 9, 223.94, 7.49)]"
            ],
            "text/html": [
              "<table>\n",
              "    <thead>\n",
              "        <tr>\n",
              "            <th>date</th>\n",
              "            <th>driver_id</th>\n",
              "            <th>amount_earned</th>\n",
              "            <th>ride_distance</th>\n",
              "        </tr>\n",
              "    </thead>\n",
              "    <tbody>\n",
              "        <tr>\n",
              "            <td>2021-03-11</td>\n",
              "            <td>8</td>\n",
              "            <td>198.41</td>\n",
              "            <td>29.67</td>\n",
              "        </tr>\n",
              "        <tr>\n",
              "            <td>2021-03-09</td>\n",
              "            <td>10</td>\n",
              "            <td>65.82</td>\n",
              "            <td>23.39</td>\n",
              "        </tr>\n",
              "        <tr>\n",
              "            <td>2021-03-03</td>\n",
              "            <td>8</td>\n",
              "            <td>187.77</td>\n",
              "            <td>5.77</td>\n",
              "        </tr>\n",
              "        <tr>\n",
              "            <td>2021-03-28</td>\n",
              "            <td>13</td>\n",
              "            <td>273.41</td>\n",
              "            <td>41.34</td>\n",
              "        </tr>\n",
              "        <tr>\n",
              "            <td>2021-03-02</td>\n",
              "            <td>9</td>\n",
              "            <td>102.92</td>\n",
              "            <td>94.51</td>\n",
              "        </tr>\n",
              "        <tr>\n",
              "            <td>2021-03-02</td>\n",
              "            <td>1</td>\n",
              "            <td>74.85</td>\n",
              "            <td>38.8</td>\n",
              "        </tr>\n",
              "        <tr>\n",
              "            <td>2021-03-06</td>\n",
              "            <td>4</td>\n",
              "            <td>312.21</td>\n",
              "            <td>70.7</td>\n",
              "        </tr>\n",
              "        <tr>\n",
              "            <td>2021-03-19</td>\n",
              "            <td>1</td>\n",
              "            <td>148.68</td>\n",
              "            <td>59.91</td>\n",
              "        </tr>\n",
              "        <tr>\n",
              "            <td>2021-03-21</td>\n",
              "            <td>14</td>\n",
              "            <td>167.77</td>\n",
              "            <td>35.76</td>\n",
              "        </tr>\n",
              "        <tr>\n",
              "            <td>2021-03-24</td>\n",
              "            <td>9</td>\n",
              "            <td>223.94</td>\n",
              "            <td>7.49</td>\n",
              "        </tr>\n",
              "    </tbody>\n",
              "</table>"
            ]
          },
          "metadata": {},
          "execution_count": 20
        }
      ]
    },
    {
      "cell_type": "code",
      "source": [
        "%%sql\n",
        "with total_distance_ride as (\n",
        "    select\n",
        "        sum(r.ride_distance) as total_distance,\n",
        "        r.driver_id,\n",
        "        d.city_id\n",
        "    from daily_ride r\n",
        "    join driver d\n",
        "        on r.driver_id = d.id\n",
        "    join city c\n",
        "        on d.city_id = c.id\n",
        "    group by r.driver_id, d.city_id\n",
        "), max_ride_distance as (\n",
        "    select\n",
        "        max(total_distance) as max_distance,\n",
        "        city_id\n",
        "    from total_distance_ride\n",
        "    group by city_id\n",
        ")\n",
        "\n",
        "select avg(max_distance) as avg_max_distance, city_id from max_ride_distance group by city_id\n"
      ],
      "metadata": {
        "colab": {
          "base_uri": "https://localhost:8080/",
          "height": 201
        },
        "id": "ovCvFiobLsyl",
        "outputId": "cb79d85a-ce2a-4eac-ab13-08f5f025185d"
      },
      "execution_count": 21,
      "outputs": [
        {
          "output_type": "stream",
          "name": "stdout",
          "text": [
            " * sqlite:///test.db\n",
            "Done.\n"
          ]
        },
        {
          "output_type": "execute_result",
          "data": {
            "text/plain": [
              "[(253.54000000000002, 1),\n",
              " (213.33, 2),\n",
              " (263.1, 4),\n",
              " (298.79999999999995, 5),\n",
              " (105.23, 7),\n",
              " (373.46000000000004, 8)]"
            ],
            "text/html": [
              "<table>\n",
              "    <thead>\n",
              "        <tr>\n",
              "            <th>avg_max_distance</th>\n",
              "            <th>city_id</th>\n",
              "        </tr>\n",
              "    </thead>\n",
              "    <tbody>\n",
              "        <tr>\n",
              "            <td>253.54000000000002</td>\n",
              "            <td>1</td>\n",
              "        </tr>\n",
              "        <tr>\n",
              "            <td>213.33</td>\n",
              "            <td>2</td>\n",
              "        </tr>\n",
              "        <tr>\n",
              "            <td>263.1</td>\n",
              "            <td>4</td>\n",
              "        </tr>\n",
              "        <tr>\n",
              "            <td>298.79999999999995</td>\n",
              "            <td>5</td>\n",
              "        </tr>\n",
              "        <tr>\n",
              "            <td>105.23</td>\n",
              "            <td>7</td>\n",
              "        </tr>\n",
              "        <tr>\n",
              "            <td>373.46000000000004</td>\n",
              "            <td>8</td>\n",
              "        </tr>\n",
              "    </tbody>\n",
              "</table>"
            ]
          },
          "metadata": {},
          "execution_count": 21
        }
      ]
    },
    {
      "cell_type": "code",
      "source": [
        "%%sql\n",
        "with max_amount_earned as (\n",
        "    select\n",
        "    max(r.amount_earned) as max_earned,\n",
        "    r.date,\n",
        "    d.city_id\n",
        "    from daily_ride r\n",
        "    join driver d\n",
        "        on r.driver_id = d.id\n",
        "    join city c\n",
        "        on d.city_id = c.id\n",
        "    group by r.date, d.city_id\n",
        "), average_maximal_amount as (\n",
        "    select\n",
        "        avg(max_earned) as day_average,\n",
        "        date\n",
        "    from max_amount_earned\n",
        "    group by date\n",
        ")\n",
        "\n",
        "select count(date) as number_of_days from average_maximal_amount where day_average > 50;\n"
      ],
      "metadata": {
        "colab": {
          "base_uri": "https://localhost:8080/",
          "height": 95
        },
        "id": "lZBaMzvSMbOY",
        "outputId": "6b6a268f-9146-479a-e1e9-809cd319635d"
      },
      "execution_count": 22,
      "outputs": [
        {
          "output_type": "stream",
          "name": "stdout",
          "text": [
            " * sqlite:///test.db\n",
            "Done.\n"
          ]
        },
        {
          "output_type": "execute_result",
          "data": {
            "text/plain": [
              "[(22,)]"
            ],
            "text/html": [
              "<table>\n",
              "    <thead>\n",
              "        <tr>\n",
              "            <th>number_of_days</th>\n",
              "        </tr>\n",
              "    </thead>\n",
              "    <tbody>\n",
              "        <tr>\n",
              "            <td>22</td>\n",
              "        </tr>\n",
              "    </tbody>\n",
              "</table>"
            ]
          },
          "metadata": {},
          "execution_count": 22
        }
      ]
    }
  ]
}